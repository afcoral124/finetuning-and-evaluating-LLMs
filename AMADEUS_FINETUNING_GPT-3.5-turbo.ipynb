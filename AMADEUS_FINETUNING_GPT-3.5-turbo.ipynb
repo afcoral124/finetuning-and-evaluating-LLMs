{
  "nbformat": 4,
  "nbformat_minor": 0,
  "metadata": {
    "colab": {
      "provenance": []
    },
    "kernelspec": {
      "name": "python3",
      "display_name": "Python 3"
    },
    "language_info": {
      "name": "python"
    }
  },
  "cells": [
    {
      "cell_type": "markdown",
      "source": [
        "#Instalaciones e importaciones"
      ],
      "metadata": {
        "id": "2scMWD8_8gAP"
      }
    },
    {
      "cell_type": "code",
      "execution_count": null,
      "metadata": {
        "colab": {
          "base_uri": "https://localhost:8080/"
        },
        "id": "7jHeMao725FL",
        "outputId": "cdce0238-1db8-4e7a-9ca3-8a18a333a4d5"
      },
      "outputs": [
        {
          "output_type": "stream",
          "name": "stdout",
          "text": [
            "\u001b[2K     \u001b[90m━━━━━━━━━━━━━━━━━━━━━━━━━━━━━━━━━━━━━━━━\u001b[0m \u001b[32m542.0/542.0 kB\u001b[0m \u001b[31m5.7 MB/s\u001b[0m eta \u001b[36m0:00:00\u001b[0m\n",
            "\u001b[2K     \u001b[90m━━━━━━━━━━━━━━━━━━━━━━━━━━━━━━━━━━━━━━━━\u001b[0m \u001b[32m1.1/1.1 MB\u001b[0m \u001b[31m33.6 MB/s\u001b[0m eta \u001b[36m0:00:00\u001b[0m\n",
            "\u001b[2K     \u001b[90m━━━━━━━━━━━━━━━━━━━━━━━━━━━━━━━━━━━━━━━━\u001b[0m \u001b[32m77.0/77.0 kB\u001b[0m \u001b[31m5.2 MB/s\u001b[0m eta \u001b[36m0:00:00\u001b[0m\n",
            "\u001b[2K     \u001b[90m━━━━━━━━━━━━━━━━━━━━━━━━━━━━━━━━━━━━━━━━\u001b[0m \u001b[32m116.3/116.3 kB\u001b[0m \u001b[31m11.2 MB/s\u001b[0m eta \u001b[36m0:00:00\u001b[0m\n",
            "\u001b[2K     \u001b[90m━━━━━━━━━━━━━━━━━━━━━━━━━━━━━━━━━━━━━━━━\u001b[0m \u001b[32m194.1/194.1 kB\u001b[0m \u001b[31m11.3 MB/s\u001b[0m eta \u001b[36m0:00:00\u001b[0m\n",
            "\u001b[2K     \u001b[90m━━━━━━━━━━━━━━━━━━━━━━━━━━━━━━━━━━━━━━━━\u001b[0m \u001b[32m134.8/134.8 kB\u001b[0m \u001b[31m9.8 MB/s\u001b[0m eta \u001b[36m0:00:00\u001b[0m\n",
            "\u001b[?25h"
          ]
        }
      ],
      "source": [
        "!pip -q install datasets tiktoken openai==0.28.1"
      ]
    },
    {
      "cell_type": "code",
      "source": [
        "import openai\n",
        "import os\n",
        "import json\n",
        "import os\n",
        "import tiktoken\n",
        "import numpy as np\n",
        "from collections import defaultdict\n",
        "\n",
        "openai.api_key = \"API KEY PERSONAL DE OPEN AI\""
      ],
      "metadata": {
        "id": "vm2_3VvV5IYA"
      },
      "execution_count": null,
      "outputs": []
    },
    {
      "cell_type": "markdown",
      "source": [
        "#Subiendo archivos de dataset a openai\n",
        "Nota: se suben los archivos y se les asignan unos ID, es importante guardar esos ID"
      ],
      "metadata": {
        "id": "9y1OBepE8pUD"
      }
    },
    {
      "cell_type": "code",
      "source": [
        "training_file_name = 'https://raw.githubusercontent.com/Beta-sebas/dataset_1/main/amadeus_TRL_DATASET_GPT3.5TURBO_VALIDATION.jsonl'\n",
        "validation_file_name = 'https://raw.githubusercontent.com/Beta-sebas/dataset_1/main/amadeus_TRL_DATASET_GPT3.5TURBO_VALIDATION.jsonl'"
      ],
      "metadata": {
        "id": "WcpEaAZl5zVg"
      },
      "execution_count": null,
      "outputs": []
    },
    {
      "cell_type": "code",
      "source": [
        "training_response = openai.File.create(\n",
        "    file=open(training_file_name, \"rb\"), purpose=\"fine-tune\"\n",
        ")\n",
        "training_file_id = training_response[\"id\"]\n",
        "\n",
        "validation_response = openai.File.create(\n",
        "    file=open(validation_file_name, \"rb\"), purpose=\"fine-tune\"\n",
        ")\n",
        "validation_file_id = validation_response[\"id\"]\n",
        "\n",
        "print(\"Training file id:\", training_file_id)\n",
        "print(\"Validation file id:\", validation_file_id)"
      ],
      "metadata": {
        "colab": {
          "base_uri": "https://localhost:8080/"
        },
        "id": "0ctM5sXh6COY",
        "outputId": "8400e237-58ee-4f44-c61d-dd8364129ccb"
      },
      "execution_count": null,
      "outputs": [
        {
          "output_type": "stream",
          "name": "stdout",
          "text": [
            "Training file id: file-o0LxbyV2fW7jy4pO4Eyny6bY\n",
            "Validation file id: file-HtDITvXKmygBMNKTsjCTwOyh\n"
          ]
        }
      ]
    },
    {
      "cell_type": "markdown",
      "source": [
        "#Se crea un Finetuning Job"
      ],
      "metadata": {
        "id": "dIwGIYHA82Qj"
      }
    },
    {
      "cell_type": "code",
      "source": [
        "suffix_name = \"AMADEUS-V2\"\n",
        "\n",
        "\n",
        "response = openai.FineTuningJob.create(\n",
        "    training_file=training_file_id,\n",
        "    validation_file=validation_file_id,\n",
        "    model=\"gpt-3.5-turbo\",\n",
        "    suffix=suffix_name,\n",
        ")\n",
        "\n",
        "job_id = response[\"id\"]\n",
        "\n",
        "print(response)"
      ],
      "metadata": {
        "colab": {
          "base_uri": "https://localhost:8080/"
        },
        "id": "dTGSjCIV8OE7",
        "outputId": "000e19b6-66c4-470a-ab5c-a46a0c87650c"
      },
      "execution_count": null,
      "outputs": [
        {
          "output_type": "stream",
          "name": "stdout",
          "text": [
            "{\n",
            "  \"object\": \"fine_tuning.job\",\n",
            "  \"id\": \"ftjob-qOfQ3xM0zHotzKPNJ9eG0vGi\",\n",
            "  \"model\": \"gpt-3.5-turbo-0125\",\n",
            "  \"created_at\": 1716826784,\n",
            "  \"finished_at\": null,\n",
            "  \"fine_tuned_model\": null,\n",
            "  \"organization_id\": \"org-NSATp5KWNUBkctvLTflUhjwL\",\n",
            "  \"result_files\": [],\n",
            "  \"status\": \"validating_files\",\n",
            "  \"validation_file\": \"file-HtDITvXKmygBMNKTsjCTwOyh\",\n",
            "  \"training_file\": \"file-o0LxbyV2fW7jy4pO4Eyny6bY\",\n",
            "  \"hyperparameters\": {\n",
            "    \"n_epochs\": \"auto\",\n",
            "    \"batch_size\": \"auto\",\n",
            "    \"learning_rate_multiplier\": \"auto\"\n",
            "  },\n",
            "  \"trained_tokens\": null,\n",
            "  \"error\": {},\n",
            "  \"user_provided_suffix\": \"AMADEUS-V2\",\n",
            "  \"seed\": 1808061051,\n",
            "  \"estimated_finish\": null,\n",
            "  \"integrations\": []\n",
            "}\n"
          ]
        }
      ]
    },
    {
      "cell_type": "code",
      "source": [
        "response = openai.FineTuningJob.retrieve(job_id)\n",
        "print(response)"
      ],
      "metadata": {
        "colab": {
          "base_uri": "https://localhost:8080/"
        },
        "id": "1qeaYz1p9Kzv",
        "outputId": "bbb8ee2b-c588-4e8d-f5f6-634cdc698a82"
      },
      "execution_count": null,
      "outputs": [
        {
          "output_type": "stream",
          "name": "stdout",
          "text": [
            "{\n",
            "  \"object\": \"fine_tuning.job\",\n",
            "  \"id\": \"ftjob-qOfQ3xM0zHotzKPNJ9eG0vGi\",\n",
            "  \"model\": \"gpt-3.5-turbo-0125\",\n",
            "  \"created_at\": 1716826784,\n",
            "  \"finished_at\": null,\n",
            "  \"fine_tuned_model\": null,\n",
            "  \"organization_id\": \"org-NSATp5KWNUBkctvLTflUhjwL\",\n",
            "  \"result_files\": [],\n",
            "  \"status\": \"validating_files\",\n",
            "  \"validation_file\": \"file-HtDITvXKmygBMNKTsjCTwOyh\",\n",
            "  \"training_file\": \"file-o0LxbyV2fW7jy4pO4Eyny6bY\",\n",
            "  \"hyperparameters\": {\n",
            "    \"n_epochs\": 3,\n",
            "    \"batch_size\": 1,\n",
            "    \"learning_rate_multiplier\": 2\n",
            "  },\n",
            "  \"trained_tokens\": null,\n",
            "  \"error\": {},\n",
            "  \"user_provided_suffix\": \"AMADEUS-V2\",\n",
            "  \"seed\": 1808061051,\n",
            "  \"estimated_finish\": null,\n",
            "  \"integrations\": []\n",
            "}\n"
          ]
        }
      ]
    },
    {
      "cell_type": "code",
      "source": [
        "response = openai.FineTuningJob.list_events(id=job_id, limit=100)\n",
        "\n",
        "events = response[\"data\"]\n",
        "events.reverse()\n",
        "\n",
        "for event in events:\n",
        "    print(event[\"message\"])\n"
      ],
      "metadata": {
        "colab": {
          "base_uri": "https://localhost:8080/"
        },
        "id": "d6NKYLpm9kiN",
        "outputId": "f2d9f702-4647-4604-c624-612a2a6c1190"
      },
      "execution_count": null,
      "outputs": [
        {
          "output_type": "stream",
          "name": "stdout",
          "text": [
            "Step 1159/1254: training loss=0.56\n",
            "Step 1160/1254: training loss=0.34\n",
            "Step 1161/1254: training loss=0.65\n",
            "Step 1162/1254: training loss=0.58\n",
            "Step 1163/1254: training loss=0.34\n",
            "Step 1164/1254: training loss=0.61\n",
            "Step 1165/1254: training loss=0.78\n",
            "Step 1166/1254: training loss=0.48\n",
            "Step 1167/1254: training loss=0.53\n",
            "Step 1168/1254: training loss=0.60\n",
            "Step 1169/1254: training loss=0.51\n",
            "Step 1170/1254: training loss=0.37\n",
            "Step 1171/1254: training loss=0.39\n",
            "Step 1172/1254: training loss=0.46\n",
            "Step 1173/1254: training loss=0.35\n",
            "Step 1174/1254: training loss=0.34\n",
            "Step 1175/1254: training loss=0.30\n",
            "Step 1176/1254: training loss=0.33\n",
            "Step 1177/1254: training loss=0.24\n",
            "Step 1178/1254: training loss=0.77\n",
            "Step 1179/1254: training loss=0.75\n",
            "Step 1180/1254: training loss=0.16\n",
            "Step 1181/1254: training loss=1.16\n",
            "Step 1182/1254: training loss=0.15\n",
            "Step 1183/1254: training loss=0.57\n",
            "Step 1184/1254: training loss=0.34\n",
            "Step 1185/1254: training loss=1.03\n",
            "Step 1186/1254: training loss=0.53\n",
            "Step 1187/1254: training loss=0.48\n",
            "Step 1188/1254: training loss=0.76\n",
            "Step 1189/1254: training loss=0.52\n",
            "Step 1190/1254: training loss=0.30\n",
            "Step 1191/1254: training loss=0.48\n",
            "Step 1192/1254: training loss=0.84\n",
            "Step 1193/1254: training loss=0.10\n",
            "Step 1194/1254: training loss=0.48\n",
            "Step 1195/1254: training loss=1.27\n",
            "Step 1196/1254: training loss=0.41\n",
            "Step 1197/1254: training loss=0.40\n",
            "Step 1198/1254: training loss=0.79\n",
            "Step 1199/1254: training loss=1.05\n",
            "Step 1200/1254: training loss=0.36, validation loss=0.37\n",
            "Step 1201/1254: training loss=0.47\n",
            "Step 1202/1254: training loss=0.52\n",
            "Step 1203/1254: training loss=1.22\n",
            "Step 1204/1254: training loss=0.17\n",
            "Step 1205/1254: training loss=0.88\n",
            "Step 1206/1254: training loss=0.14\n",
            "Step 1207/1254: training loss=0.32\n",
            "Step 1208/1254: training loss=1.41\n",
            "Step 1209/1254: training loss=0.55\n",
            "Step 1210/1254: training loss=0.48\n",
            "Step 1211/1254: training loss=0.39\n",
            "Step 1212/1254: training loss=0.18\n",
            "Step 1213/1254: training loss=0.44\n",
            "Step 1214/1254: training loss=0.72\n",
            "Step 1215/1254: training loss=0.53\n",
            "Step 1216/1254: training loss=0.75\n",
            "Step 1217/1254: training loss=0.36\n",
            "Step 1218/1254: training loss=0.84\n",
            "Step 1219/1254: training loss=0.29\n",
            "Step 1220/1254: training loss=0.52\n",
            "Step 1221/1254: training loss=0.29\n",
            "Step 1222/1254: training loss=0.69\n",
            "Step 1223/1254: training loss=0.43\n",
            "Step 1224/1254: training loss=0.52\n",
            "Step 1225/1254: training loss=0.38\n",
            "Step 1226/1254: training loss=0.82\n",
            "Step 1227/1254: training loss=0.61\n",
            "Step 1228/1254: training loss=0.50\n",
            "Step 1229/1254: training loss=0.48\n",
            "Step 1230/1254: training loss=0.76\n",
            "Step 1231/1254: training loss=0.57\n",
            "Step 1232/1254: training loss=0.26\n",
            "Step 1233/1254: training loss=0.34\n",
            "Step 1234/1254: training loss=0.57\n",
            "Step 1235/1254: training loss=0.25\n",
            "Step 1236/1254: training loss=1.16\n",
            "Step 1237/1254: training loss=0.55\n",
            "Step 1238/1254: training loss=1.08\n",
            "Step 1239/1254: training loss=0.97\n",
            "Step 1240/1254: training loss=0.42\n",
            "Step 1241/1254: training loss=0.51\n",
            "Step 1242/1254: training loss=0.40\n",
            "Step 1243/1254: training loss=0.65\n",
            "Step 1244/1254: training loss=2.14\n",
            "Step 1245/1254: training loss=1.07\n",
            "Step 1246/1254: training loss=0.25\n",
            "Step 1247/1254: training loss=0.78\n",
            "Step 1248/1254: training loss=0.52\n",
            "Step 1249/1254: training loss=0.23\n",
            "Step 1250/1254: training loss=0.19\n",
            "Step 1251/1254: training loss=0.07\n",
            "Step 1252/1254: training loss=0.37\n",
            "Step 1253/1254: training loss=0.19\n",
            "Step 1254/1254: training loss=0.25, full validation loss=0.56\n",
            "Checkpoint created at step 418 with Snapshot ID: ft:gpt-3.5-turbo-0125:personal:amadeus-v2:9TY74gC7:ckpt-step-418\n",
            "Checkpoint created at step 836 with Snapshot ID: ft:gpt-3.5-turbo-0125:personal:amadeus-v2:9TY75wdB:ckpt-step-836\n",
            "New fine-tuned model created: ft:gpt-3.5-turbo-0125:personal:amadeus-v2:9TY75gIb\n",
            "The job has successfully completed\n"
          ]
        }
      ]
    },
    {
      "cell_type": "markdown",
      "source": [
        "#Probar el modelo ya entrenado"
      ],
      "metadata": {
        "id": "Cb74HS62Bc5T"
      }
    },
    {
      "cell_type": "markdown",
      "source": [
        "Pregunta:"
      ],
      "metadata": {
        "id": "MPjwJdvZCO0t"
      }
    },
    {
      "cell_type": "code",
      "source": [
        "test_messages = []\n",
        "system_job = \"Eres un asistente de análisis de madurez de tecnolgías\"\n",
        "test_messages.append({\"role\": \"system\", \"content\": system_job})\n",
        "user_message = \"qué necesito para llegar a TRL7?\"\n",
        "test_messages.append({\"role\": \"user\", \"content\": user_message})\n",
        "\n",
        "for message in test_messages:\n",
        "  print(message)"
      ],
      "metadata": {
        "colab": {
          "base_uri": "https://localhost:8080/"
        },
        "id": "90z9vbB6BhSL",
        "outputId": "c3f72ff1-7da9-427e-96e8-fadb75b43b10"
      },
      "execution_count": null,
      "outputs": [
        {
          "output_type": "stream",
          "name": "stdout",
          "text": [
            "{'role': 'system', 'content': 'Eres un asistente de recetas de comida'}\n",
            "{'role': 'user', 'content': 'como puedo hacer que mi pan crezca?'}\n"
          ]
        }
      ]
    },
    {
      "cell_type": "markdown",
      "source": [
        "Respuesta del modelo entrenado:"
      ],
      "metadata": {
        "id": "AMy9CaSdCP7q"
      }
    },
    {
      "cell_type": "code",
      "source": [
        "fine_tuned_model_id = \"id del modelo recién creado\"\n",
        "response = openai.ChatCompletion.create(\n",
        "    model=fine_tuned_model_id, messages=test_messages, temperature=0.5, max_tokens=500\n",
        ")\n",
        "print(response[\"choices\"][0][\"message\"][\"content\"])"
      ],
      "metadata": {
        "colab": {
          "base_uri": "https://localhost:8080/"
        },
        "id": "laQpdnv_CN5u",
        "outputId": "28d43a8f-5d17-4a70-e049-5946205662de"
      },
      "execution_count": null,
      "outputs": [
        {
          "output_type": "stream",
          "name": "stdout",
          "text": [
            " Para hacer que tu pan crezca, asegúrate de que la levadura esté fresca y activa. También es importante amasar bien la masa para desarrollar el gluten. Además, déjalo reposar en un lugar cálido y sin corrientes de aire para que fermente adecuadamente.\n"
          ]
        }
      ]
    },
    {
      "cell_type": "markdown",
      "source": [
        "Respuesta del modelo original:"
      ],
      "metadata": {
        "id": "3aKN30RPDYZU"
      }
    },
    {
      "cell_type": "code",
      "source": [
        "response = openai.ChatCompletion.create(\n",
        "    model='gpt-3.5-turbo', messages=test_messages, temperature=0, max_tokens=500\n",
        ")\n",
        "print(response[\"choices\"][0][\"message\"][\"content\"])"
      ],
      "metadata": {
        "colab": {
          "base_uri": "https://localhost:8080/"
        },
        "id": "sFir4Id0DewJ",
        "outputId": "d3313d83-0cb5-4441-b0f8-f5d31e26ebeb"
      },
      "execution_count": null,
      "outputs": [
        {
          "output_type": "stream",
          "name": "stdout",
          "text": [
            "Para hacer que tu pan crezca adecuadamente, aquí tienes algunos consejos:\n",
            "\n",
            "1. Utiliza levadura fresca o activa: Asegúrate de que tu levadura esté fresca y activa. Si usas levadura seca activa, disuélvela en agua tibia con una pizca de azúcar y déjala reposar durante unos minutos hasta que se forme una espuma.\n",
            "\n",
            "2. Amasa correctamente: Amasa la masa lo suficiente para desarrollar el gluten. Esto ayudará a retener el dióxido de carbono producido por la levadura y permitirá que el pan crezca.\n",
            "\n",
            "3. Deja que la masa repose y fermente: Después de amasar, deja que la masa repose en un lugar cálido y sin corrientes de aire para que fermente. Esto permitirá que la levadura haga su trabajo y haga que la masa crezca.\n",
            "\n",
            "4. Proporciona un ambiente cálido: Asegúrate de que la temperatura ambiente sea adecuada para que la levadura funcione correctamente. Si hace frío, puedes colocar la masa en un lugar cálido, como cerca de una fuente de calor o en el horno apagado con la luz encendida.\n",
            "\n",
            "5. No agregues demasiada harina: Asegúrate de no agregar demasiada harina a la masa, ya que esto puede dificultar el crecimiento adecuado. La masa debe ser suave y ligeramente pegajosa al tacto.\n",
            "\n",
            "6. Deja que la masa suba dos veces: Después de amasar y dejar que la masa repose, dale forma al pan y déjalo subir nuevamente antes de hornearlo. Esto permitirá que el pan crezca aún más y obtenga una textura más esponjosa.\n",
            "\n",
            "Recuerda que el proceso de hacer pan puede requerir práctica y paciencia. Sigue estos consejos y ajusta según sea necesario para obtener los mejores resultados. ¡Buena suerte!\n"
          ]
        }
      ]
    },
    {
      "cell_type": "markdown",
      "source": [
        "Capturo la primera respuesta del asistente para establecer el historial de interacciones en los mensajes:"
      ],
      "metadata": {
        "id": "Cgo306bUH27N"
      }
    },
    {
      "cell_type": "code",
      "source": [
        "test_messages.append({\"role\": \"assistant\", \"content\": response[\"choices\"][0][\"message\"][\"content\"]})\n",
        "user_message = \"y cuales son sus desventajas?\"\n",
        "test_messages.append({\"role\": \"user\", \"content\": user_message})\n",
        "for message in test_messages:\n",
        "  print(message)"
      ],
      "metadata": {
        "colab": {
          "base_uri": "https://localhost:8080/"
        },
        "id": "3N4lHOfyH--S",
        "outputId": "ad40a9c9-4429-4295-8fd0-fa01c15cf458"
      },
      "execution_count": null,
      "outputs": [
        {
          "output_type": "stream",
          "name": "stdout",
          "text": [
            "{'role': 'system', 'content': 'Eres un asistente de Platzi, que es una plataforma de cursos de educación en línea. Tú ayudas a sus estudiantes a resolver dudas sobre la plataforma y sus cursos'}\n",
            "{'role': 'user', 'content': 'cuales son las ventajas de aprender PHP?'}\n",
            "{'role': 'assistant', 'content': ' Algunas ventajas de aprender PHP son: su popularidad y demanda en el mercado laboral, su facilidad de uso y aprendizaje, su amplia comunidad de desarrolladores, su compatibilidad con diferentes sistemas operativos y su integración con bases de datos.'}\n",
            "{'role': 'user', 'content': 'y cuales son sus desventajas?'}\n"
          ]
        }
      ]
    },
    {
      "cell_type": "markdown",
      "source": [
        "Solicito la segunda interacción del asistente en este hilo de conversación"
      ],
      "metadata": {
        "id": "L5_462iaJMUf"
      }
    },
    {
      "cell_type": "code",
      "source": [
        "response = openai.ChatCompletion.create(\n",
        "    model=fine_tuned_model_id, messages=test_messages, temperature=0, max_tokens=500\n",
        ")\n",
        "print(response[\"choices\"][0][\"message\"][\"content\"])"
      ],
      "metadata": {
        "colab": {
          "base_uri": "https://localhost:8080/"
        },
        "id": "eTNUhx-wIcEg",
        "outputId": "8add940d-de13-4a3e-97f6-62802f06c70c"
      },
      "execution_count": null,
      "outputs": [
        {
          "output_type": "stream",
          "name": "stdout",
          "text": [
            " Algunas desventajas de PHP son: su reputación de ser un lenguaje menos seguro en comparación con otros, su falta de soporte para programación orientada a objetos en versiones anteriores, y su rendimiento relativamente más lento en comparación con otros lenguajes. Sin embargo, muchas de estas desventajas han sido abordadas en versiones más recientes de PHP.\n"
          ]
        }
      ]
    }
  ]
}
